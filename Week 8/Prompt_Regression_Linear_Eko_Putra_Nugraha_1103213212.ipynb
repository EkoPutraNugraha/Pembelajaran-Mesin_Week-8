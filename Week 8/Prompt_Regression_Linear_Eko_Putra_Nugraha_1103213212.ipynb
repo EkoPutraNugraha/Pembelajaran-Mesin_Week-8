{
  "nbformat": 4,
  "nbformat_minor": 0,
  "metadata": {
    "colab": {
      "provenance": []
    },
    "kernelspec": {
      "name": "python3",
      "display_name": "Python 3"
    },
    "language_info": {
      "name": "python"
    }
  },
  "cells": [
    {
      "cell_type": "markdown",
      "source": [
        "Buatkan kode Python untuk menyambungkan Google Colab ke Google Drive."
      ],
      "metadata": {
        "id": "XfeJb7CBnKIl"
      }
    },
    {
      "cell_type": "code",
      "execution_count": null,
      "metadata": {
        "id": "Nak-WZ6jm4gq"
      },
      "outputs": [],
      "source": []
    },
    {
      "cell_type": "markdown",
      "source": [
        "Tampilkan kode Python yang menggunakan library numpy, pandas, dan matplotlib.pyplot untuk membaca data dari file CSV yang tersimpan di Google Drive, menampilkan nama kolom yang tersedia, serta menggunakan header bawaan file."
      ],
      "metadata": {
        "id": "zpi_0M0VnSeW"
      }
    },
    {
      "cell_type": "code",
      "source": [],
      "metadata": {
        "id": "qM6_RVZAnd5l"
      },
      "execution_count": null,
      "outputs": []
    },
    {
      "cell_type": "markdown",
      "source": [
        "Tampilkan kode Python untuk menampilkan beberapa baris pertama dari sebuah DataFrame menggunakan fungsi bawaan Pandas."
      ],
      "metadata": {
        "id": "gPJvrNBhnd-4"
      }
    },
    {
      "cell_type": "code",
      "source": [],
      "metadata": {
        "id": "ZTpowIlbnmUx"
      },
      "execution_count": null,
      "outputs": []
    },
    {
      "cell_type": "markdown",
      "source": [
        "Buatlah sebuah skrip Python menggunakan pustaka matplotlib untuk menghasilkan dua box plot yang ditampilkan berdampingan, satu untuk variabel X dan satu lagi untuk variabel y, yang keduanya terdapat dalam sebuah DataFrame. Plot pertama harus menampilkan box plot untuk kolom pertama (X), dan plot kedua menampilkan box plot untuk kolom kedua (y). Pastikan ukuran gambar ditentukan agar plot terlihat proporsional, dan gunakan dua subplot dalam satu gambar untuk membandingkan distribusi kedua variabel secara bersamaan. Berikan judul yang sesuai untuk masing-masing subplot, seperti \"Boxplot of X\" untuk plot pertama dan \"Boxplot of y\" untuk plot kedua, serta label pada sumbu x dengan \"X\" dan \"y\" masing-masing. Gunakan opsi vert=True agar box plot ditampilkan secara vertikal, dan tambahkan warna pengisi dengan patch_artist=True agar plot lebih menarik secara visual. Pastikan layout plot disesuaikan dengan plt.tight_layout() agar elemen-elemen tidak saling tumpang tindih. Setelah itu, tampilkan hasil plot menggunakan plt.show()."
      ],
      "metadata": {
        "id": "UBoBctAnnmaR"
      }
    },
    {
      "cell_type": "code",
      "source": [],
      "metadata": {
        "id": "xSAHyaVPoFbl"
      },
      "execution_count": null,
      "outputs": []
    },
    {
      "cell_type": "markdown",
      "source": [
        "Buatlah sebuah skrip Python menggunakan pustaka matplotlib untuk membuat scatter plot yang memvisualisasikan hubungan antara dua variabel, X dan y, yang masing-masing diambil dari kolom pertama dan kedua sebuah DataFrame. Pertama, ekstrak kolom pertama sebagai variabel X dan kolom kedua sebagai variabel y, kemudian ubah keduanya menjadi array satu kolom menggunakan reshape(-1, 1). Setelah itu, buat scatter plot dengan menggunakan X sebagai sumbu x dan y sebagai sumbu y, dan beri warna merah pada titik data. Tambahkan label pada sumbu x dengan \"X\" dan sumbu y dengan \"y\", serta tampilkan legenda dengan label \"Data\". Terakhir, tampilkan plot menggunakan plt.show() untuk memvisualisasikan hasilnya."
      ],
      "metadata": {
        "id": "knwRy8x-oFjQ"
      }
    },
    {
      "cell_type": "code",
      "source": [],
      "metadata": {
        "id": "ku_TQnidoM1X"
      },
      "execution_count": null,
      "outputs": []
    },
    {
      "cell_type": "markdown",
      "source": [
        "Buatlah sebuah skrip Python yang menggunakan pustaka matplotlib dan scikit-learn untuk membandingkan model regresi linear dan regresi polinomial pada data yang diambil dari dua kolom dalam sebuah DataFrame. Pertama, ekstrak kolom pertama sebagai variabel X dan kolom kedua sebagai variabel y, dan pastikan data tersebut memiliki bentuk yang sesuai dengan .reshape(-1, 1). Kemudian, buat model regresi linear menggunakan LinearRegression() dan latih model tersebut dengan data X dan y. Selanjutnya, buat model regresi polinomial dengan derajat 3 menggunakan PolynomialFeatures(degree=3), transformasikan data X menjadi bentuk yang sesuai, dan latih model regresi polinomial dengan data yang telah ditransformasikan. Untuk visualisasi yang lebih halus, buat data X_test dengan range nilai X yang lebih banyak (misalnya 100 titik), dan prediksi nilai y untuk kedua model regresi tersebut. Terakhir, visualisasikan hasilnya dengan menampilkan data asli sebagai titik merah, garis regresi linear berwarna hijau, dan garis regresi polinomial berwarna biru, lengkap dengan judul plot, label sumbu, dan legenda untuk membandingkan kedua model regresi."
      ],
      "metadata": {
        "id": "KKyXd2naoM7A"
      }
    },
    {
      "cell_type": "code",
      "source": [],
      "metadata": {
        "id": "4qLfxKddoT43"
      },
      "execution_count": null,
      "outputs": []
    },
    {
      "cell_type": "markdown",
      "source": [
        "Buatlah sebuah skrip Python yang menggunakan pustaka scikit-learn untuk menghitung dan membandingkan nilai Mean Squared Error (MSE) antara model regresi linear dan regresi polinomial pada data yang telah diprediksi. Setelah melatih model regresi linear dan regresi polinomial, hitung nilai MSE untuk masing-masing model menggunakan fungsi mean_squared_error() dari sklearn.metrics. Pertama, hitung MSE untuk model regresi linear dengan membandingkan nilai aktual y dan nilai prediksi y_pred_linear. Kemudian, hitung MSE untuk model regresi polinomial dengan menggunakan hasil prediksi dari poly_model. Tampilkan hasil perhitungan MSE untuk kedua model regresi tersebut dengan format yang rapi, menunjukkan dua angka desimal, agar mudah dibandingkan. Pastikan hasilnya dicetak dengan penjelasan yang sesuai, misalnya, \"Mean Squared Error for Linear Regression\" dan \"Mean Squared Error for Polynomial Regression\"."
      ],
      "metadata": {
        "id": "SXWyXBM8oT-O"
      }
    },
    {
      "cell_type": "code",
      "source": [],
      "metadata": {
        "id": "H_lK04R9oa_1"
      },
      "execution_count": null,
      "outputs": []
    },
    {
      "cell_type": "markdown",
      "source": [
        "Buatlah sebuah skrip Python yang menggunakan pustaka scikit-learn untuk membagi data menjadi data latih dan data uji. Gunakan fungsi train_test_split() dari sklearn.model_selection untuk membagi variabel X dan y menjadi dua set data: satu untuk pelatihan dan satu untuk pengujian. Tentukan parameter test_size=0.2 untuk mengalokasikan 20% data untuk pengujian, sementara 80% sisanya digunakan untuk pelatihan. Tentukan juga parameter random_state=42 untuk memastikan hasil pembagian data yang konsisten setiap kali skrip dijalankan. Setelah pembagian, data latih disimpan dalam variabel X_train dan y_train, sementara data uji disimpan dalam variabel X_test dan y_test."
      ],
      "metadata": {
        "id": "B-SP132yobF4"
      }
    },
    {
      "cell_type": "code",
      "source": [],
      "metadata": {
        "id": "waa9RPrXohLB"
      },
      "execution_count": null,
      "outputs": []
    },
    {
      "cell_type": "markdown",
      "source": [
        "Buatlah sebuah skrip Python yang menggunakan pustaka scikit-learn untuk membangun dan melatih model regresi pohon keputusan (Decision Tree Regressor). Pertama, impor kelas DecisionTreeRegressor dari sklearn.tree. Kemudian, buatlah sebuah model pohon keputusan dengan menginisialisasi DecisionTreeRegressor dan tentukan parameter random_state=42 untuk memastikan hasil yang konsisten setiap kali skrip dijalankan. Latih model ini menggunakan data latih X_train dan y_train dengan metode .fit(). Setelah model dilatih, gunakan metode .predict() untuk membuat prediksi berdasarkan data uji X_test dan simpan hasil prediksi tersebut dalam variabel y_pred_dt."
      ],
      "metadata": {
        "id": "6VU2_tDQohPu"
      }
    },
    {
      "cell_type": "code",
      "source": [],
      "metadata": {
        "id": "XokUEZvpooHD"
      },
      "execution_count": null,
      "outputs": []
    },
    {
      "cell_type": "markdown",
      "source": [
        "Buatlah sebuah skrip Python yang menggunakan pustaka scikit-learn untuk membangun dan melatih model regresi k-Nearest Neighbors (k-NN Regressor). Pertama, impor kelas KNeighborsRegressor dari sklearn.neighbors. Kemudian, buatlah sebuah model k-NN dengan menginisialisasi KNeighborsRegressor dan tentukan parameter n_neighbors=5 untuk menggunakan 5 tetangga terdekat dalam perhitungan prediksi. Latih model ini menggunakan data latih X_train dan y_train dengan metode .fit(). Setelah model dilatih, lakukan prediksi menggunakan metode .predict() pada data uji X_test dan simpan hasil prediksi tersebut dalam variabel y_pred_knn."
      ],
      "metadata": {
        "id": "yoNLJzKrooK-"
      }
    },
    {
      "cell_type": "code",
      "source": [],
      "metadata": {
        "id": "4RH_dDonosrp"
      },
      "execution_count": null,
      "outputs": []
    },
    {
      "cell_type": "markdown",
      "source": [
        "Buatlah sebuah skrip Python yang menggunakan pustaka xgboost untuk membangun dan melatih model regresi XGBoost. Pertama, pastikan pustaka xgboost terinstal dengan menggunakan perintah !pip install xgboost jika belum terpasang. Setelah itu, impor pustaka xgboost dan beri alias xgb. Kemudian, buatlah model XGBoost dengan menginisialisasi XGBRegressor dan tentukan parameter objective='reg:squarederror' untuk masalah regresi, n_estimators=100 untuk jumlah pohon keputusan dalam model, dan random_state=42 untuk memastikan hasil yang konsisten setiap kali skrip dijalankan. Latih model ini dengan data latih X_train dan y_train menggunakan metode .fit(). Setelah model dilatih, lakukan prediksi pada data uji X_test dengan metode .predict() dan simpan hasil prediksi dalam variabel y_pred_xgb."
      ],
      "metadata": {
        "id": "LJZVTOWgoswl"
      }
    },
    {
      "cell_type": "code",
      "source": [],
      "metadata": {
        "id": "XF1Ncsu7oyJL"
      },
      "execution_count": null,
      "outputs": []
    },
    {
      "cell_type": "markdown",
      "source": [
        "Buatlah sebuah skrip Python yang menggunakan pustaka matplotlib untuk memvisualisasikan hasil prediksi dari tiga model regresi yang berbeda—Decision Tree, k-Nearest Neighbors (k-NN), dan XGBoost—pada data yang telah dipelajari. Pertama, buatlah variabel X_plot yang berisi serangkaian nilai X yang lebih halus (misalnya 100 titik) untuk menghasilkan visualisasi yang lebih mulus. Selanjutnya, buatlah sebuah figure dengan ukuran besar untuk menampung tiga plot.\n",
        "\n",
        "* Pada subplot pertama, visualisasikan model Decision Tree Regression dengan titik data berwarna merah dan garis prediksi dari model Decision Tree yang digambarkan dengan warna hijau.\n",
        "\n",
        "* Pada subplot kedua, visualisasikan model k-NN Regression dengan titik data berwarna merah dan garis prediksi dari model k-NN yang digambarkan dengan warna biru.\n",
        "\n",
        "* Pada subplot ketiga, visualisasikan model XGBoost Regression dengan titik data berwarna merah dan garis prediksi dari model XGBoost yang digambarkan dengan warna oranye.\n",
        "\n",
        "Berikan judul yang sesuai untuk setiap subplot (\"Decision Tree Regression\", \"k-NN Regression\", dan \"XGBoost Regression\"), serta label sumbu X dan y. Tambahkan legenda untuk setiap model dan pastikan layout plot tidak tumpang tindih menggunakan plt.tight_layout(). Terakhir, tampilkan plot dengan plt.show()."
      ],
      "metadata": {
        "id": "-fLnJqXsoyNP"
      }
    },
    {
      "cell_type": "code",
      "source": [],
      "metadata": {
        "id": "wfu0D4uWo-dr"
      },
      "execution_count": null,
      "outputs": []
    },
    {
      "cell_type": "markdown",
      "source": [
        "Buatlah sebuah skrip Python yang menggunakan pustaka scikit-learn untuk menghitung dan membandingkan nilai Mean Squared Error (MSE) dari tiga model regresi yang telah dibangun: Decision Tree, k-Nearest Neighbors (k-NN), dan XGBoost. Setelah model dilatih dan melakukan prediksi pada data uji (X_test), hitunglah MSE untuk masing-masing model dengan menggunakan fungsi mean_squared_error() dari sklearn.metrics. Tentukan MSE untuk model Decision Tree dengan membandingkan nilai aktual y_test dan prediksi y_pred_dt, untuk model k-NN dengan membandingkan nilai aktual dan prediksi y_pred_knn, serta untuk model XGBoost dengan membandingkan nilai aktual dan prediksi y_pred_xgb. Tampilkan hasil perhitungan MSE masing-masing model dengan format dua angka desimal yang jelas, misalnya, \"Mean Squared Error for Decision Tree\", \"Mean Squared Error for k-NN\", dan \"Mean Squared Error for XGBoost\"."
      ],
      "metadata": {
        "id": "lQmYngodo-nB"
      }
    },
    {
      "cell_type": "code",
      "source": [],
      "metadata": {
        "id": "By7RdwrPpEDM"
      },
      "execution_count": null,
      "outputs": []
    },
    {
      "cell_type": "markdown",
      "source": [
        "Buatlah sebuah skrip Python yang menggunakan pustaka scikit-learn untuk melakukan pencarian hyperparameter menggunakan metode RandomizedSearchCV pada model Decision Tree Regressor. Pertama, tentukan distribusi parameter yang ingin diuji untuk model Decision Tree, seperti max_depth, min_samples_split, dan min_samples_leaf. Kemudian, inisialisasi objek RandomizedSearchCV dengan model DecisionTreeRegressor sebagai estimator dan distribusi parameter tersebut sebagai param_distributions. Tentukan juga parameter scoring='neg_mean_squared_error' untuk mengevaluasi model berdasarkan nilai MSE negatif, cv=3 untuk menggunakan 3-fold cross-validation, dan n_iter=10 untuk menjalankan pencarian acak sebanyak 10 iterasi. Setelah melakukan pencarian hyperparameter dengan metode .fit(), ambil model terbaik yang ditemukan menggunakan best_estimator_. Prediksi menggunakan model yang telah dituning pada data uji X_test dan simpan hasil prediksi dalam variabel y_pred_dt_tuned. Tampilkan parameter terbaik yang ditemukan dalam pencarian dengan mencetak best_params_."
      ],
      "metadata": {
        "id": "Z1dsXk0cpEIg"
      }
    },
    {
      "cell_type": "code",
      "source": [],
      "metadata": {
        "id": "cd4s6AWWpIri"
      },
      "execution_count": null,
      "outputs": []
    },
    {
      "cell_type": "markdown",
      "source": [
        "Buatlah sebuah skrip Python yang menggunakan pustaka scikit-learn untuk melakukan pencarian hyperparameter menggunakan metode RandomizedSearchCV pada model k-Nearest Neighbors (k-NN) Regressor. Pertama, tentukan distribusi parameter yang ingin diuji untuk model k-NN, seperti n_neighbors (jumlah tetangga), weights (cara pemberian bobot, bisa 'uniform' atau 'distance'), dan p (parameter untuk metrik jarak, biasanya 1 untuk Manhattan dan 2 untuk Euclidean). Selanjutnya, inisialisasi objek RandomizedSearchCV dengan model KNeighborsRegressor sebagai estimator dan distribusi parameter yang telah ditentukan sebagai param_distributions. Tentukan juga parameter scoring='neg_mean_squared_error' untuk mengevaluasi model berdasarkan nilai MSE negatif, cv=3 untuk menggunakan 3-fold cross-validation, dan n_iter=10 untuk menjalankan pencarian acak sebanyak 10 iterasi. Setelah pencarian selesai, ambil model terbaik yang ditemukan menggunakan best_estimator_. Lakukan prediksi pada data uji X_test dengan model yang telah dituning dan simpan hasilnya dalam variabel y_pred_knn_tuned. Tampilkan parameter terbaik yang ditemukan dengan mencetak best_params_.\n",
        "\n"
      ],
      "metadata": {
        "id": "8_j_rXrKpIv3"
      }
    },
    {
      "cell_type": "code",
      "source": [],
      "metadata": {
        "id": "KBHoKafZpOWg"
      },
      "execution_count": null,
      "outputs": []
    },
    {
      "cell_type": "markdown",
      "source": [
        "Buatlah sebuah skrip Python yang menggunakan pustaka scikit-learn untuk melakukan pencarian hyperparameter menggunakan metode RandomizedSearchCV pada model XGBoost Regressor. Pertama, tentukan distribusi parameter yang ingin diuji untuk model XGBoost, seperti n_estimators (jumlah pohon keputusan), max_depth (kedalaman maksimum pohon), learning_rate (kecepatan pembelajaran), dan subsample (proporsi sampel yang digunakan untuk membangun pohon). Inisialisasi objek RandomizedSearchCV dengan model XGBRegressor yang telah ditentukan dengan parameter objective='reg:squarederror' untuk masalah regresi dan random_state=42 untuk memastikan hasil yang konsisten. Tentukan juga parameter scoring='neg_mean_squared_error' untuk mengevaluasi model berdasarkan nilai MSE negatif, cv=3 untuk menggunakan 3-fold cross-validation, dan n_iter=10 untuk menjalankan pencarian acak sebanyak 10 iterasi. Setelah melakukan pencarian hyperparameter dengan metode .fit(), ambil model terbaik yang ditemukan menggunakan best_estimator_. Prediksi hasil pada data uji X_test dengan model yang telah dituning dan simpan hasil prediksi dalam variabel y_pred_xgb_tuned. Tampilkan parameter terbaik yang ditemukan dalam pencarian dengan mencetak best_params_."
      ],
      "metadata": {
        "id": "kNvDZhiLpOdp"
      }
    },
    {
      "cell_type": "code",
      "source": [],
      "metadata": {
        "id": "RZ3qKNsJpUlJ"
      },
      "execution_count": null,
      "outputs": []
    },
    {
      "cell_type": "markdown",
      "source": [
        "Buatlah sebuah skrip Python yang menggunakan pustaka matplotlib untuk memvisualisasikan hasil prediksi dari tiga model regresi yang telah dituning menggunakan pencarian hyperparameter. Setelah menemukan model terbaik untuk masing-masing algoritma (Decision Tree, k-NN, dan XGBoost) melalui RandomizedSearchCV, visualisasikan prediksi model tersebut pada data yang sama. Pertama, buat variabel X_plot yang berisi serangkaian nilai X yang lebih halus (misalnya 100 titik) untuk menghasilkan plot yang lebih mulus.\n",
        "\n",
        "Kemudian, buatlah figure dengan ukuran yang cukup besar untuk menampung tiga subplot. Pada setiap subplot, visualisasikan data asli sebagai titik merah dan tambahkan garis prediksi hasil model yang telah dituning:\n",
        "\n",
        "* Pada subplot pertama, tampilkan model Tuned Decision Tree Regression dengan garis hijau.\n",
        "\n",
        "* Pada subplot kedua, tampilkan model Tuned k-NN Regression dengan garis biru.\n",
        "\n",
        "* Pada subplot ketiga, tampilkan model Tuned XGBoost Regression dengan garis oranye.\n",
        "\n",
        "Setiap subplot harus memiliki judul yang sesuai (\"Tuned Decision Tree Regression\", \"Tuned k-NN Regression\", \"Tuned XGBoost Regression\"), label untuk sumbu x dan y, dan legenda yang menunjukkan model yang digunakan. Pastikan layout plot tidak tumpang tindih dengan menggunakan plt.tight_layout(), dan tampilkan plot dengan plt.show()."
      ],
      "metadata": {
        "id": "cTx3kV50pUrs"
      }
    },
    {
      "cell_type": "code",
      "source": [],
      "metadata": {
        "id": "s5jgfJmWpkDr"
      },
      "execution_count": null,
      "outputs": []
    },
    {
      "cell_type": "markdown",
      "source": [
        "Buatlah sebuah skrip Python yang menggunakan pustaka scikit-learn untuk menghitung dan membandingkan nilai Mean Squared Error (MSE) dari tiga model regresi setelah dilakukan hyperparameter tuning. Setelah melakukan tuning parameter menggunakan RandomizedSearchCV pada model Decision Tree, k-NN, dan XGBoost, hitunglah MSE untuk masing-masing model menggunakan hasil prediksi yang telah dituning pada data uji (y_pred_dt_tuned, y_pred_knn_tuned, y_pred_xgb_tuned). Gunakan fungsi mean_squared_error() dari sklearn.metrics untuk menghitung MSE antara nilai aktual (y_test) dan nilai prediksi yang dihasilkan oleh model yang sudah dituning. Tampilkan hasil perhitungan MSE untuk masing-masing model dengan format dua angka desimal, misalnya, \"Tuned Mean Squared Error for Decision Tree\", \"Tuned Mean Squared Error for k-NN\", dan \"Tuned Mean Squared Error for XGBoost\"."
      ],
      "metadata": {
        "id": "MH2D2FOSpkLJ"
      }
    },
    {
      "cell_type": "code",
      "source": [],
      "metadata": {
        "id": "_-6Zpq1npsIg"
      },
      "execution_count": null,
      "outputs": []
    }
  ]
}