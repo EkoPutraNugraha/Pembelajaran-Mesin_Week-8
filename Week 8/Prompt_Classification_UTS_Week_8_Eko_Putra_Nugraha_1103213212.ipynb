{
  "nbformat": 4,
  "nbformat_minor": 0,
  "metadata": {
    "colab": {
      "provenance": []
    },
    "kernelspec": {
      "name": "python3",
      "display_name": "Python 3"
    },
    "language_info": {
      "name": "python"
    }
  },
  "cells": [
    {
      "cell_type": "markdown",
      "source": [
        "Tuliskan sebuah kode Python untuk menyambungkan Google Colab dengan Google Drive sehingga file yang ada di Google Drive dapat diakses dari Colab."
      ],
      "metadata": {
        "id": "C8N9e7QW0HZ4"
      }
    },
    {
      "cell_type": "code",
      "execution_count": null,
      "metadata": {
        "id": "9dMMLBo10ADt"
      },
      "outputs": [],
      "source": []
    },
    {
      "cell_type": "markdown",
      "source": [
        "Tuliskan sebuah kode Python untuk membaca data dari file CSV yang disimpan di Google Drive menggunakan pandas. Spesifikasikan delimiter sebagai \";\" dan encoding default."
      ],
      "metadata": {
        "id": "70h1DlGq0Jz-"
      }
    },
    {
      "cell_type": "code",
      "source": [],
      "metadata": {
        "id": "0mDFK6He0P60"
      },
      "execution_count": null,
      "outputs": []
    },
    {
      "cell_type": "markdown",
      "source": [
        "Tuliskan kode Python untuk menampilkan beberapa baris pertama dari sebuah DataFrame yang telah dibaca menggunakan pandas."
      ],
      "metadata": {
        "id": "izORN1tb0QRi"
      }
    },
    {
      "cell_type": "code",
      "source": [],
      "metadata": {
        "id": "tGDzqVcg0WWK"
      },
      "execution_count": null,
      "outputs": []
    },
    {
      "cell_type": "markdown",
      "source": [
        "Tuliskan kode Python untuk memisahkan kolom fitur (X) dan kolom target (Y) dari sebuah DataFrame menggunakan pandas. Misalkan kolom terakhir adalah target, dan semua kolom sebelumnya adalah fitur. Sertakan juga kode untuk menampilkan 5 baris pertama dari fitur dan target."
      ],
      "metadata": {
        "id": "XtuOtwnB0Wcn"
      }
    },
    {
      "cell_type": "code",
      "source": [],
      "metadata": {
        "id": "O2eEt9wn0fDk"
      },
      "execution_count": null,
      "outputs": []
    },
    {
      "cell_type": "markdown",
      "source": [
        "Tuliskan kode Python untuk membuat scatter plot hubungan antara dua kolom fitur (age dan duration) dan kolom target (y). Lakukan langkah-langkah berikut:\n",
        "\n",
        "1. Gunakan pandas untuk memilih kolom age dan duration sebagai fitur (X) dan kolom y sebagai target (Y).\n",
        "\n",
        "2. Gunakan LabelEncoder untuk mengubah nilai target (Y) menjadi bentuk numerik (misalnya, 'yes' menjadi 1 dan 'no' menjadi 0).\n",
        "\n",
        "3. Gunakan Matplotlib untuk membuat scatter plot dengan:\n",
        "    * Sumbu X menunjukkan nilai kolom age.\n",
        "    * Sumbu Y menunjukkan nilai kolom duration.\n",
        "    * Warna titik mencerminkan nilai target (Y).\n",
        "4. Tambahkan label pada sumbu X dan Y serta judul pada scatter plot."
      ],
      "metadata": {
        "id": "4-d5rrYA0fjl"
      }
    },
    {
      "cell_type": "markdown",
      "source": [],
      "metadata": {
        "id": "fm-ZBjfN100t"
      }
    },
    {
      "cell_type": "code",
      "source": [],
      "metadata": {
        "id": "lqjgp3ri1cbE"
      },
      "execution_count": null,
      "outputs": []
    },
    {
      "cell_type": "markdown",
      "source": [
        "Tuliskan kode Python untuk:\n",
        "\n",
        "1. Melakukan encoding pada kolom target (Y) menggunakan LabelEncoder untuk mengubah nilai kategorikal menjadi numerik.\n",
        "\n",
        "2. Membagi dataset menjadi data latih (X_train, Y_train) dan data uji (X_test, Y_test) menggunakan fungsi train_test_split dari scikit-learn dengan rasio data uji 30% dan random state 0.\n",
        "\n",
        "3. Menghitung dan mencetak jumlah sampel dalam data latih dan data uji."
      ],
      "metadata": {
        "id": "yX2vM6wW1cuk"
      }
    },
    {
      "cell_type": "code",
      "source": [],
      "metadata": {
        "id": "Qy5I6ofp1uvb"
      },
      "execution_count": null,
      "outputs": []
    },
    {
      "cell_type": "markdown",
      "source": [
        "Tuliskan kode Python untuk melakukan standarisasi fitur pada data latih (X_train) dan data uji (X_test) menggunakan StandardScaler dari scikit-learn. Lakukan langkah-langkah berikut:\n",
        "\n",
        "1. Buat objek StandardScaler dan sesuaikan skala menggunakan data latih (fit pada X_train).\n",
        "\n",
        "2. Terapkan transformasi skala pada data latih (transform pada X_train) dan data uji (transform pada X_test).\n",
        "\n",
        "3. Cetak beberapa sampel awal dari X_train sebelum dan sesudah proses standarisasi untuk perbandingan."
      ],
      "metadata": {
        "id": "FeTy8VMb1u7c"
      }
    },
    {
      "cell_type": "code",
      "source": [],
      "metadata": {
        "id": "FaA5LpaG10nu"
      },
      "execution_count": null,
      "outputs": []
    },
    {
      "cell_type": "markdown",
      "source": [
        "Tuliskan kode Python untuk memilih kolom age dan duration dari sebuah DataFrame dan mengambil sejumlah baris tertentu untuk data latih dan data uji. Lakukan langkah berikut:\n",
        "\n",
        "1. Ambil 3 baris pertama sebagai contoh data latih (train_data).\n",
        "2. Ambil 3 baris berikutnya sebagai contoh data uji (test_data).\n",
        "3. Cetak data latih dan data uji tersebut dengan label masing-masing (Train Data dan Test Data)"
      ],
      "metadata": {
        "id": "3SV_KaDV2JDP"
      }
    },
    {
      "cell_type": "code",
      "source": [],
      "metadata": {
        "id": "bG4lm3142OeB"
      },
      "execution_count": null,
      "outputs": []
    },
    {
      "cell_type": "markdown",
      "source": [
        "Tuliskan kode Python untuk melakukan standarisasi pada data latih menggunakan StandardScaler dari scikit-learn. Gunakan fit untuk menghitung rata-rata dan standar deviasi dari data latih, kemudian transformasikan data tersebut menggunakan transform. Setelah itu, cetak hasil data latih yang telah distandarisasi dengan label Train Data Scaled."
      ],
      "metadata": {
        "id": "-WcDr6zw2Opf"
      }
    },
    {
      "cell_type": "code",
      "source": [],
      "metadata": {
        "id": "v8p-2DER2ZJm"
      },
      "execution_count": null,
      "outputs": []
    },
    {
      "cell_type": "markdown",
      "source": [
        "Tuliskan kode Python untuk mendemonstrasikan kesalahan dalam standarisasi data uji. Gunakan StandardScaler untuk menghitung rata-rata dan standar deviasi langsung dari data uji (fit pada data uji), lalu skalakan data uji tersebut menggunakan transform. Terakhir, cetak hasil data uji yang salah distandarisasi dengan label Incorrectly Scaled Test Data (scaled with test parameters)."
      ],
      "metadata": {
        "id": "ux3VhFJT2ZQp"
      }
    },
    {
      "cell_type": "code",
      "source": [],
      "metadata": {
        "id": "CbW_Neo12ft4"
      },
      "execution_count": null,
      "outputs": []
    },
    {
      "cell_type": "markdown",
      "source": [
        "Tuliskan kode Python untuk melakukan standarisasi data uji dengan menggunakan parameter (rata-rata dan standar deviasi) yang dihitung dari data latih. Gunakan transform pada data uji menggunakan objek StandardScaler yang telah di-fit dengan data latih, lalu cetak hasil data uji yang distandarisasi dengan label Correctly Scaled Test Data (scaled with training parameters)."
      ],
      "metadata": {
        "id": "yjYJHbYA2gJB"
      }
    },
    {
      "cell_type": "code",
      "source": [],
      "metadata": {
        "id": "VvbfjkKr2ljG"
      },
      "execution_count": null,
      "outputs": []
    },
    {
      "cell_type": "markdown",
      "source": [
        "Tuliskan kode Python untuk menginisialisasi model Perceptron dari scikit-learn dengan jumlah iterasi maksimum 40, laju pembelajaran (learning rate) 0.1, dan random state 0. Setelah itu, latih model tersebut menggunakan data latih yang sudah distandarisasi (X_train_standard) dan target latih (Y_train)"
      ],
      "metadata": {
        "id": "3hVWl7Ty2mZW"
      }
    },
    {
      "cell_type": "code",
      "source": [],
      "metadata": {
        "id": "UPoYqWqZ2md_"
      },
      "execution_count": null,
      "outputs": []
    },
    {
      "cell_type": "markdown",
      "source": [
        "Tuliskan kode Python untuk membuat prediksi menggunakan model Perceptron pada data uji yang sudah distandarisasi (X_test_standard). Setelah itu, hitung dan cetak akurasi model dengan membandingkan hasil prediksi (Y_pred_perceptron) dan target sebenarnya (Y_test) menggunakan fungsi accuracy_score dari scikit-learn. Tampilkan akurasi dalam format desimal dengan dua angka di belakang koma"
      ],
      "metadata": {
        "id": "sRZiYr8j2uf4"
      }
    },
    {
      "cell_type": "code",
      "source": [],
      "metadata": {
        "id": "ddKArJB020tc"
      },
      "execution_count": null,
      "outputs": []
    },
    {
      "cell_type": "markdown",
      "source": [
        "Tuliskan fungsi Python bernama plot_decision_regions untuk memvisualisasikan decision regions dari sebuah model klasifikasi. Fungsi ini harus menerima parameter data fitur (X), target (y), classifier, indeks data uji opsional (test_idx), dan resolusi grid (resolution). Gunakan marker dan warna khusus untuk berbagai kelas, dengan warna ditentukan menggunakan kode warna hexadecimal. Buat grid menggunakan np.meshgrid, prediksi kelas setiap titik dalam grid menggunakan metode predict dari classifier, dan gambarkan decision regions dengan plt.contourf. Tambahkan batas-batas grafik menggunakan plt.xlim dan plt.ylim, serta visualisasikan sampel data dengan scatter plot, menggunakan marker dan warna yang sesuai untuk setiap kelas. Dukungan tambahan harus diberikan untuk menandai data uji jika test_idx disediakan."
      ],
      "metadata": {
        "id": "rfcfL17g20ys"
      }
    },
    {
      "cell_type": "code",
      "source": [],
      "metadata": {
        "id": "U4V0Zwmg2-50"
      },
      "execution_count": null,
      "outputs": []
    },
    {
      "cell_type": "markdown",
      "source": [
        "Tuliskan kode Python untuk menggabungkan data latih dan data uji ke dalam satu dataset untuk visualisasi decision regions. Gunakan np.vstack untuk menggabungkan fitur yang telah distandarisasi (X_train_standard dan X_test_standard) dan np.hstack untuk menggabungkan target (Y_train dan Y_test). Setelah itu, gunakan fungsi plot_decision_regions untuk menampilkan decision regions untuk seluruh dataset. Sertakan parameter test_idx untuk menandai indeks data uji pada plot. Tambahkan catatan teks untuk menjelaskan bahwa model Perceptron tidak akan konvergen pada dataset yang tidak dapat dipisahkan secara linear, sehingga tidak direkomendasikan untuk dataset yang terlalu sederhana."
      ],
      "metadata": {
        "id": "tJKIhbk52-_W"
      }
    },
    {
      "cell_type": "code",
      "source": [],
      "metadata": {
        "id": "j1q-Ec6D3GtX"
      },
      "execution_count": null,
      "outputs": []
    },
    {
      "cell_type": "markdown",
      "source": [
        "Tuliskan kode Python untuk menginisialisasi model Logistic Regression menggunakan scikit-learn. Gunakan parameter regularisasi C=1000.0 untuk mengurangi regularisasi dan random_state=0 untuk hasil yang dapat direproduksi. Latih model tersebut menggunakan data latih yang sudah distandarisasi (X_train_standard dan Y_train). Setelah pelatihan selesai, tambahkan pernyataan cetak untuk mengonfirmasi bahwa model Logistic Regression telah dilatih pada data."
      ],
      "metadata": {
        "id": "76iMH8yj3Gz4"
      }
    },
    {
      "cell_type": "code",
      "source": [],
      "metadata": {
        "id": "yPuzn-8T3Mns"
      },
      "execution_count": null,
      "outputs": []
    },
    {
      "cell_type": "markdown",
      "source": [
        "Tuliskan kode Python untuk membuat prediksi menggunakan model Logistic Regression pada data uji yang sudah distandarisasi (X_test_standard). Setelah itu, hitung dan cetak akurasi model dengan membandingkan hasil prediksi (Y_pred_Logit) dengan target sebenarnya (Y_test) menggunakan fungsi accuracy_score dari scikit-learn. Tampilkan akurasi dalam format desimal dengan dua angka di belakang koma.\""
      ],
      "metadata": {
        "id": "sXLQWvNf3Msy"
      }
    },
    {
      "cell_type": "code",
      "source": [],
      "metadata": {
        "id": "VN4ooYTU3S6w"
      },
      "execution_count": null,
      "outputs": []
    },
    {
      "cell_type": "markdown",
      "source": [
        "Tuliskan kode Python untuk memvisualisasikan decision regions menggunakan fungsi plot_decision_regions. Gunakan dataset gabungan yang terdiri dari data latih dan data uji (X_combined_standard untuk fitur dan Y_combined untuk target). Gunakan model Logistic Regression (lr) sebagai classifier. Tentukan parameter test_idx untuk menyoroti indeks data uji (misalnya, indeks 105 hingga 149) pada visualisasi."
      ],
      "metadata": {
        "id": "BUKpVnu73S-9"
      }
    },
    {
      "cell_type": "code",
      "source": [],
      "metadata": {
        "id": "PCc34_oG3cYo"
      },
      "execution_count": null,
      "outputs": []
    },
    {
      "cell_type": "markdown",
      "source": [
        "Tuliskan kode Python untuk menginisialisasi model Decision Tree menggunakan scikit-learn. Gunakan parameter criterion='entropy' untuk menghitung impurity berdasarkan entropy, max_depth=3 untuk membatasi kedalaman pohon, dan random_state=0 untuk memastikan hasil yang dapat direproduksi. Latih model tersebut menggunakan data latih yang sudah distandarisasi (X_train_standard dan Y_train)."
      ],
      "metadata": {
        "id": "8JeXsErx4SaX"
      }
    },
    {
      "cell_type": "code",
      "source": [],
      "metadata": {
        "id": "MDn6simU4S3N"
      },
      "execution_count": null,
      "outputs": []
    },
    {
      "cell_type": "markdown",
      "source": [
        "Tuliskan kode Python untuk membuat prediksi menggunakan model Decision Tree pada data uji (X_test). Setelah itu, hitung dan cetak akurasi model dengan membandingkan hasil prediksi (Y_pred_tree) dengan target sebenarnya (Y_test) menggunakan fungsi accuracy_score dari scikit-learn. Tampilkan hasil akurasi dalam format desimal dengan dua angka di belakang koma."
      ],
      "metadata": {
        "id": "LyJTCCL64S80"
      }
    },
    {
      "cell_type": "code",
      "source": [],
      "metadata": {
        "id": "Ue_2OShS4Xqj"
      },
      "execution_count": null,
      "outputs": []
    },
    {
      "cell_type": "markdown",
      "source": [
        "Tuliskan kode Python untuk menggabungkan data latih dan data uji menjadi satu dataset untuk visualisasi decision regions. Gunakan np.vstack untuk menggabungkan fitur yang sudah distandarisasi (X_train_standard dan X_test_standard) dan np.hstack untuk menggabungkan target (Y_train dan Y_test). Setelah itu, gunakan fungsi plot_decision_regions untuk memvisualisasikan decision regions model Decision Tree (tree). Sertakan parameter test_idx untuk menyoroti data uji pada plot, dengan indeks dimulai dari panjang data latih hingga panjang keseluruhan data."
      ],
      "metadata": {
        "id": "KxMH_L234Xva"
      }
    },
    {
      "cell_type": "code",
      "source": [],
      "metadata": {
        "id": "GZNAzZ5U4c43"
      },
      "execution_count": null,
      "outputs": []
    },
    {
      "cell_type": "markdown",
      "source": [
        "Tuliskan kode Python untuk menginisialisasi model K-Nearest Neighbors (KNN) menggunakan scikit-learn. Gunakan 5 neighbors (n_neighbors=5), metrik jarak Minkowski (metric='minkowski'), dan parameter p=2 untuk mengatur jarak Euclidean. Latih model tersebut menggunakan data latih yang sudah distandarisasi (X_train_standard dan Y_train)."
      ],
      "metadata": {
        "id": "XAbzNqf54c_I"
      }
    },
    {
      "cell_type": "code",
      "source": [],
      "metadata": {
        "id": "97TrmSjn4jMa"
      },
      "execution_count": null,
      "outputs": []
    },
    {
      "cell_type": "markdown",
      "source": [
        "Tuliskan kode Python untuk membuat prediksi menggunakan model K-Nearest Neighbors (KNN) pada data uji yang sudah distandarisasi (X_test_standard). Setelah itu, hitung dan cetak akurasi model dengan membandingkan hasil prediksi (Y_pred_KNN) dengan target sebenarnya (Y_test) menggunakan fungsi accuracy_score dari scikit-learn. Tampilkan hasil akurasi dalam format desimal dengan dua angka di belakang koma."
      ],
      "metadata": {
        "id": "4dKRX_fO4jTc"
      }
    },
    {
      "cell_type": "code",
      "source": [],
      "metadata": {
        "id": "Bq7qdI8M4n3w"
      },
      "execution_count": null,
      "outputs": []
    },
    {
      "cell_type": "markdown",
      "source": [
        "Tuliskan kode Python untuk menggabungkan data latih dan data uji menjadi satu dataset untuk visualisasi decision regions. Gunakan np.vstack untuk menggabungkan fitur yang sudah distandarisasi (X_train_standard dan X_test_standard) dan np.hstack untuk menggabungkan target (Y_train dan Y_test). Setelah itu, gunakan fungsi plot_decision_regions untuk memvisualisasikan decision regions model K-Nearest Neighbors (knn). Sertakan parameter test_idx untuk menyoroti data uji pada plot, dengan indeks dimulai dari panjang data latih hingga panjang keseluruhan data."
      ],
      "metadata": {
        "id": "akrqQf2z4n91"
      }
    },
    {
      "cell_type": "code",
      "source": [],
      "metadata": {
        "id": "PYHiHd3x4sct"
      },
      "execution_count": null,
      "outputs": []
    },
    {
      "cell_type": "markdown",
      "source": [
        "Tuliskan kode Python untuk menginisialisasi model XGBoost Classifier menggunakan library xgboost. Gunakan parameter use_label_encoder=False untuk menonaktifkan encoder label internal, eval_metric='logloss' untuk menetapkan metrik evaluasi, dan random_state=0 untuk memastikan hasil yang dapat direproduksi. Latih model menggunakan data latih yang sudah distandarisasi (X_train_standard dan Y_train)."
      ],
      "metadata": {
        "id": "AGdcVJYI4sh-"
      }
    },
    {
      "cell_type": "code",
      "source": [],
      "metadata": {
        "id": "O2iHZJhz4ypS"
      },
      "execution_count": null,
      "outputs": []
    },
    {
      "cell_type": "markdown",
      "source": [
        "Tuliskan kode Python untuk melakukan prediksi menggunakan model XGBoost (xgb) pada data uji yang sudah distandarisasi (X_test_standard). Simpan hasil prediksi dalam variabel Y_pred_XGB."
      ],
      "metadata": {
        "id": "VHVaO1H_4ywB"
      }
    },
    {
      "cell_type": "code",
      "source": [],
      "metadata": {
        "id": "xofEUcvp42nn"
      },
      "execution_count": null,
      "outputs": []
    },
    {
      "cell_type": "markdown",
      "source": [
        "Tuliskan kode Python untuk menghitung akurasi model XGBoost dengan membandingkan hasil prediksi (Y_pred_XGB) dengan target sebenarnya (Y_test) menggunakan fungsi accuracy_score dari scikit-learn. Cetak hasil akurasi dengan label Accuracy of XGBoost dan tampilkan dalam format desimal dengan dua angka di belakang koma."
      ],
      "metadata": {
        "id": "pgGbzqEm42si"
      }
    },
    {
      "cell_type": "code",
      "source": [],
      "metadata": {
        "id": "3BuZAGm946A3"
      },
      "execution_count": null,
      "outputs": []
    },
    {
      "cell_type": "markdown",
      "source": [
        "Tuliskan kode Python untuk membuat Confusion Matrix menggunakan hasil prediksi model XGBoost (Y_pred_XGB) dan target sebenarnya (Y_test). Gunakan confusion_matrix dari scikit-learn untuk menghitung matriks kebingungan dan gunakan seaborn.heatmap untuk memvisualisasikannya. Tambahkan label sumbu X sebagai 'Predicted', sumbu Y sebagai 'Actual', serta judul 'Confusion Matrix for XGBoost'. Gunakan encoder.classes_ untuk memberikan label pada sumbu jika target telah di-encode."
      ],
      "metadata": {
        "id": "ko6Q4LxJ46FR"
      }
    },
    {
      "cell_type": "code",
      "source": [],
      "metadata": {
        "id": "BrxHdaeg4-LD"
      },
      "execution_count": null,
      "outputs": []
    },
    {
      "cell_type": "markdown",
      "source": [
        "Tuliskan kode Python untuk membuat laporan klasifikasi (classification report) menggunakan hasil prediksi model XGBoost (Y_pred_XGB) dan target sebenarnya (Y_test). Gunakan fungsi classification_report dari scikit-learn untuk menghasilkan metrik evaluasi, seperti precision, recall, dan F1-score. Ubah kelas target yang telah di-encode menjadi format string menggunakan encoder.classes_ dan gunakan target_names untuk menampilkan nama target dalam laporan. Tambahkan label Classification Report for XGBoost sebelum menampilkan laporan."
      ],
      "metadata": {
        "id": "FWncXAb-4-TP"
      }
    },
    {
      "cell_type": "code",
      "source": [],
      "metadata": {
        "id": "VEFoIbWA5Ced"
      },
      "execution_count": null,
      "outputs": []
    },
    {
      "cell_type": "markdown",
      "source": [
        "Tuliskan kode Python untuk memvisualisasikan decision regions dari model XGBoost (xgb). Gunakan dataset gabungan (X_combined_standard untuk fitur dan Y_combined untuk target) untuk menampilkan semua data latih dan uji. Sertakan parameter test_idx untuk menyoroti data uji pada plot, dengan indeks dimulai dari panjang data latih hingga panjang keseluruhan data. Tambahkan judul plot Decision Regions for XGBoost dan tampilkan hasil visualisasi."
      ],
      "metadata": {
        "id": "Wl84NQNt5C2Z"
      }
    },
    {
      "cell_type": "code",
      "source": [],
      "metadata": {
        "id": "RfbVJTEv5H3L"
      },
      "execution_count": null,
      "outputs": []
    },
    {
      "cell_type": "markdown",
      "source": [
        "Tuliskan kode Python untuk melakukan hyperparameter tuning pada model XGBoost menggunakan GridSearchCV. Gunakan parameter grid yang mencakup:\n",
        "\n",
        "* max_depth: [3, 5, 7]\n",
        "* learning_rate: [0.01, 0.1, 0.2]\n",
        "* n_estimators: [50, 100, 200]\n",
        "* subsample: [0.8, 1.0]\n",
        "* colsample_bytree: [0.8, 1.0]\n",
        "\n",
        "Inisialisasi model XGBoost dengan use_label_encoder=False, eval_metric='logloss', dan random_state=0. Gunakan GridSearchCV untuk mengevaluasi model dengan metrik accuracy, 5-fold cross-validation (cv=5), dan menjalankan pekerjaan paralel (n_jobs=-1). Latih GridSearchCV menggunakan data latih yang sudah distandarisasi (X_train_standard dan Y_train). Setelah selesai, cetak parameter terbaik (best_params_) dan akurasi terbaik (best_score_) dari pencarian grid."
      ],
      "metadata": {
        "id": "DXkGIWt05H9d"
      }
    },
    {
      "cell_type": "code",
      "source": [],
      "metadata": {
        "id": "X25PMJLU5UrB"
      },
      "execution_count": null,
      "outputs": []
    },
    {
      "cell_type": "markdown",
      "source": [
        "Tuliskan kode Python untuk melakukan hyperparameter tuning pada model Logistic Regression menggunakan GridSearchCV. Gunakan parameter grid dengan nilai C sebagai berikut: [0.1, 1, 10, 100, 1000].\n",
        "\n",
        "Inisialisasi model Logistic Regression dengan random_state=0. Gunakan GridSearchCV untuk mengevaluasi model dengan metrik accuracy, 5-fold cross-validation (cv=5), dan pekerjaan paralel (n_jobs=-1). Latih GridSearchCV menggunakan data latih yang sudah distandarisasi (X_train_standard dan Y_train). Setelah proses selesai, cetak parameter terbaik (best_params_) dan akurasi terbaik (best_score_) dari pencarian grid."
      ],
      "metadata": {
        "id": "7Ew_ECfr5Uvr"
      }
    },
    {
      "cell_type": "code",
      "source": [],
      "metadata": {
        "id": "Zl_DVdpx5ZcL"
      },
      "execution_count": null,
      "outputs": []
    },
    {
      "cell_type": "markdown",
      "source": [
        "Tuliskan kode Python untuk melakukan hyperparameter tuning pada model K-Nearest Neighbors (KNN) menggunakan GridSearchCV. Gunakan parameter grid sebagai berikut:\n",
        "\n",
        "* n_neighbors: [3, 5, 7, 9]\n",
        "* p: [1, 2]\n",
        "* metric: ['minkowski', 'euclidean', 'manhattan']\n",
        "\n",
        "Inisialisasi model KNN tanpa parameter tambahan. Gunakan GridSearchCV untuk mengevaluasi model dengan metrik accuracy, 5-fold cross-validation (cv=5), dan pekerjaan paralel (n_jobs=-1). Latih GridSearchCV menggunakan data latih yang sudah distandarisasi (X_train_standard dan Y_train). Setelah selesai, cetak parameter terbaik (best_params_) dan akurasi terbaik (best_score_) dari pencarian grid."
      ],
      "metadata": {
        "id": "j3vNATor5aVd"
      }
    },
    {
      "cell_type": "code",
      "source": [],
      "metadata": {
        "id": "k_KTXpO75ibL"
      },
      "execution_count": null,
      "outputs": []
    },
    {
      "cell_type": "markdown",
      "source": [
        "Tuliskan kode Python untuk melakukan hyperparameter tuning pada model XGBoost menggunakan GridSearchCV. Gunakan parameter grid sebagai berikut:\n",
        "\n",
        "* max_depth: [3, 5, 7] untuk menentukan kedalaman maksimum pohon.\n",
        "* learning_rate: [0.01, 0.1, 0.2] untuk menetapkan laju pembelajaran.\n",
        "* n_estimators: [50, 100, 200] untuk jumlah estimator.\n",
        "* subsample: [0.8, 1.0] untuk rasio sampling data.\n",
        "* colsample_bytree: [0.8, 1.0] untuk rasio sampling fitur.\n",
        "\n",
        "Inisialisasi model XGBoost dengan use_label_encoder=False, eval_metric='logloss', dan random_state=0. Gunakan GridSearchCV untuk mengevaluasi model menggunakan metrik accuracy, 5-fold cross-validation (cv=5), dan pekerjaan paralel (n_jobs=-1). Latih GridSearchCV menggunakan data latih yang sudah distandarisasi (X_train_standard dan Y_train). Setelah selesai, cetak parameter terbaik (best_params_) dan akurasi terbaik (best_score_) dari pencarian grid."
      ],
      "metadata": {
        "id": "QZHrl0gh5ikc"
      }
    },
    {
      "cell_type": "code",
      "source": [],
      "metadata": {
        "id": "jzhW7F-s5r7h"
      },
      "execution_count": null,
      "outputs": []
    },
    {
      "cell_type": "markdown",
      "source": [
        "Tuliskan kode Python untuk melatih ulang model XGBoost menggunakan parameter terbaik dari hasil tuning hyperparameter dengan GridSearchCV. Gunakan best_estimator_ dari objek grid search (xgb_grid.best_estimator_) untuk mendapatkan model dengan konfigurasi parameter terbaik. Latih model ini kembali menggunakan data latih yang sudah distandarisasi (X_train_standard dan Y_train)."
      ],
      "metadata": {
        "id": "PuFFlYlW5sCa"
      }
    },
    {
      "cell_type": "code",
      "source": [],
      "metadata": {
        "id": "gfUEDxb95wU5"
      },
      "execution_count": null,
      "outputs": []
    },
    {
      "cell_type": "markdown",
      "source": [
        "Tuliskan kode Python untuk mengevaluasi model XGBoost yang telah dituning menggunakan data uji. Gunakan model terbaik (best_xgb) dari hasil tuning hyperparameter untuk membuat prediksi pada data uji yang sudah distandarisasi (X_test_standard). Simpan hasil prediksi dalam variabel Y_pred_XGB_tuned."
      ],
      "metadata": {
        "id": "hpJ8cNu-5wbJ"
      }
    },
    {
      "cell_type": "code",
      "source": [],
      "metadata": {
        "id": "X9Snhzaj6Nf3"
      },
      "execution_count": null,
      "outputs": []
    },
    {
      "cell_type": "markdown",
      "source": [
        "Tuliskan kode Python untuk menghitung akurasi model XGBoost yang telah dituning. Gunakan fungsi accuracy_score dari scikit-learn untuk membandingkan hasil prediksi (Y_pred_XGB_tuned) dengan target sebenarnya (Y_test). Cetak akurasi dengan label Accuracy of Tuned XGBoost dalam format desimal dengan dua angka di belakang koma."
      ],
      "metadata": {
        "id": "MxtalUXL6NlS"
      }
    },
    {
      "cell_type": "code",
      "source": [],
      "metadata": {
        "id": "JCqvSl346TSo"
      },
      "execution_count": null,
      "outputs": []
    },
    {
      "cell_type": "markdown",
      "source": [
        "Tuliskan kode Python untuk membuat confusion matrix untuk model XGBoost yang telah dituning. Gunakan fungsi confusion_matrix dari scikit-learn untuk menghitung matriks kebingungan dengan hasil prediksi (Y_pred_XGB_tuned) dan target sebenarnya (Y_test). Visualisasikan matriks kebingungan menggunakan seaborn.heatmap dengan anotasi angka, format bilangan bulat (fmt='d'), dan palet warna Blues. Tambahkan label pada sumbu X sebagai 'Predicted', sumbu Y sebagai 'Actual', serta judul 'Confusion Matrix for Tuned XGBoost'."
      ],
      "metadata": {
        "id": "h94cdDbv6TYf"
      }
    },
    {
      "cell_type": "code",
      "source": [],
      "metadata": {
        "id": "6avX0G0S6XTQ"
      },
      "execution_count": null,
      "outputs": []
    },
    {
      "cell_type": "markdown",
      "source": [
        "Tuliskan kode Python untuk membuat classification report untuk model XGBoost yang telah dituning. Gunakan fungsi classification_report dari scikit-learn untuk menghasilkan metrik evaluasi seperti precision, recall, dan F1-score. Ubah kelas target yang telah di-encode menjadi string menggunakan encoder.classes_ dan gunakan sebagai target_names. Tambahkan label Classification Report for Tuned XGBoost sebelum menampilkan laporan."
      ],
      "metadata": {
        "id": "VFQ44hG16XYe"
      }
    }
  ]
}